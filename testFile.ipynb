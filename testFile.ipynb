{
 "cells": [
  {
   "cell_type": "code",
   "execution_count": 1,
   "metadata": {},
   "outputs": [
    {
     "name": "stdout",
     "output_type": "stream",
     "text": [
      "['10', '15', '22', '33', '47', '68']\n"
     ]
    }
   ],
   "source": [
    "from utils import *\n",
    "\n",
    "e12tant = []\n",
    "\n",
    "for i in range(len(e12series)):\n",
    "    if i%2 == 0:\n",
    "        e12tant.append(e12series[i])\n",
    "\n",
    "print( e12tant)"
   ]
  },
  {
   "cell_type": "code",
   "execution_count": 2,
   "metadata": {},
   "outputs": [
    {
     "name": "stdout",
     "output_type": "stream",
     "text": [
      "0.1u\t104\n",
      "0.15u\t154\n",
      "0.22u\t224\n",
      "0.33u\t334\n",
      "0.47u\t474\n",
      "0.68u\t684\n",
      "1u\t105\n",
      "1.5u\t155\n",
      "2.2u\t225\n",
      "3.3u\t335\n",
      "4.7u\t475\n",
      "6.8u\t685\n",
      "10u\t106\n",
      "15u\t156\n",
      "22u\t226\n",
      "33u\t336\n",
      "47u\t476\n",
      "68u\t686\n"
     ]
    }
   ],
   "source": [
    "def xxyMarking(e12str, power):\n",
    "    value = (float(e12str) * (10** power)) * 10.0**(-12)\n",
    "    mark = roundWithMultiplier(value)\n",
    "    return mark\n",
    "\n",
    "for i in range(4,7):\n",
    "    for e12 in e12tant:\n",
    "        print(\"{}\\t{}\".format(xxyMarking(e12, i)[0], e12+str(i)))"
   ]
  },
  {
   "cell_type": "code",
   "execution_count": 17,
   "metadata": {},
   "outputs": [
    {
     "name": "stdout",
     "output_type": "stream",
     "text": [
      "['0R47', None] 0.47\n",
      "['1R13', None] 1.13\n",
      "['100R', None] 100\n",
      "['1K', None] 1000\n",
      "['4K7', None] 4700\n",
      "['5K36', None] 5360\n",
      "['1M27', None] 1270000\n",
      "['1M', None] 1000000.0\n"
     ]
    }
   ],
   "source": [
    "def roundToRKM(value):\n",
    "    highMults = ['R','K','M']\n",
    "    multCount = 0\n",
    "    value = float(value)\n",
    "    ogVal = value\n",
    "    if(value >= 0.99):\n",
    "        while (value // 999 > 0):\n",
    "            value = value / 1000.0\n",
    "            multCount += 1\n",
    "    # elif(value < 0.099):\n",
    "    #     while (value < 0.099):\n",
    "    #         value = value * 1000.0\n",
    "    #         multCount -= 1\n",
    "\n",
    "    if multCount > 3:\n",
    "        print(\"OUT OF RANGE:\", multCount)\n",
    "        multCount = 0\n",
    "        \n",
    "    return [str(round(value,3)).rstrip('0').replace('.', highMults[multCount]), None]\n",
    "\n",
    "testList = [0.47, 1.13, 100, 1000, 4700, 5360, 1270000, 1000000.0]\n",
    "\n",
    "for val in testList:\n",
    "    print(roundToRKM(val), val)"
   ]
  },
  {
   "cell_type": "code",
   "execution_count": 15,
   "metadata": {},
   "outputs": [
    {
     "name": "stdout",
     "output_type": "stream",
     "text": [
      "['p47', None] 4.699999999999999e-13\n",
      "['1p13', None] 1.1299999999999998e-12\n",
      "['n1', None] 1e-10\n",
      "['1n', None] 1e-09\n",
      "['4n7', None] 4.7e-09\n",
      "['5n36', None] 5.36e-09\n",
      "['1u27', None] 1.27e-06\n"
     ]
    }
   ],
   "source": [
    "def roundToPNU(value):\n",
    "    highMults = ['p','n','u','m','']\n",
    "    multCount = len(highMults) - 1\n",
    "    value = float(value)\n",
    "    # if(value >= 0.99):\n",
    "    #     while (value // 999 > 0):\n",
    "    #         value = value / 1000.0\n",
    "    #         multCount += 1\n",
    "    if(value < 0.099):\n",
    "        while (value < 0.099):\n",
    "            value = value * 1000.0\n",
    "            multCount -= 1\n",
    "\n",
    "    if multCount < 0:\n",
    "        print(\"OUT OF RANGE:\", multCount)\n",
    "        multCount = 0\n",
    "        \n",
    "    return [str(round(value,3)).strip('0').replace('.', highMults[multCount]), None]\n",
    "\n",
    "testList = [0.47, 1.13, 100, 1000, 4700, 5360, 1270000]\n",
    "\n",
    "for val in testList:\n",
    "    val = val * 10**(-12)\n",
    "    print(roundToPNU(val), val)"
   ]
  }
 ],
 "metadata": {
  "kernelspec": {
   "display_name": "base",
   "language": "python",
   "name": "python3"
  },
  "language_info": {
   "codemirror_mode": {
    "name": "ipython",
    "version": 3
   },
   "file_extension": ".py",
   "mimetype": "text/x-python",
   "name": "python",
   "nbconvert_exporter": "python",
   "pygments_lexer": "ipython3",
   "version": "3.9.13"
  },
  "orig_nbformat": 4,
  "vscode": {
   "interpreter": {
    "hash": "1b4dcc508076e9239aa6a2b739d41c8a505780e648b690f375f7d262ba9ac310"
   }
  }
 },
 "nbformat": 4,
 "nbformat_minor": 2
}
