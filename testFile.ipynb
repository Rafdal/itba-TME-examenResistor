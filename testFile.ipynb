{
 "cells": [
  {
   "cell_type": "code",
   "execution_count": 1,
   "metadata": {},
   "outputs": [
    {
     "name": "stdout",
     "output_type": "stream",
     "text": [
      "['10', '15', '22', '33', '47', '68']\n"
     ]
    }
   ],
   "source": [
    "from utils import *\n",
    "\n",
    "e12tant = []\n",
    "\n",
    "for i in range(len(e12series)):\n",
    "    if i%2 == 0:\n",
    "        e12tant.append(e12series[i])\n",
    "\n",
    "print( e12tant)"
   ]
  },
  {
   "cell_type": "code",
   "execution_count": 2,
   "metadata": {},
   "outputs": [
    {
     "name": "stdout",
     "output_type": "stream",
     "text": [
      "0.1u\t104\n",
      "0.15u\t154\n",
      "0.22u\t224\n",
      "0.33u\t334\n",
      "0.47u\t474\n",
      "0.68u\t684\n",
      "1u\t105\n",
      "1.5u\t155\n",
      "2.2u\t225\n",
      "3.3u\t335\n",
      "4.7u\t475\n",
      "6.8u\t685\n",
      "10u\t106\n",
      "15u\t156\n",
      "22u\t226\n",
      "33u\t336\n",
      "47u\t476\n",
      "68u\t686\n"
     ]
    }
   ],
   "source": [
    "def xxyMarking(e12str, power):\n",
    "    value = (float(e12str) * (10** power)) * 10.0**(-12)\n",
    "    mark = roundWithMultiplier(value)\n",
    "    return mark\n",
    "\n",
    "for i in range(4,7):\n",
    "    for e12 in e12tant:\n",
    "        print(\"{}\\t{}\".format(xxyMarking(e12, i)[0], e12+str(i)))"
   ]
  }
 ],
 "metadata": {
  "kernelspec": {
   "display_name": "base",
   "language": "python",
   "name": "python3"
  },
  "language_info": {
   "codemirror_mode": {
    "name": "ipython",
    "version": 3
   },
   "file_extension": ".py",
   "mimetype": "text/x-python",
   "name": "python",
   "nbconvert_exporter": "python",
   "pygments_lexer": "ipython3",
   "version": "3.9.13"
  },
  "orig_nbformat": 4,
  "vscode": {
   "interpreter": {
    "hash": "1b4dcc508076e9239aa6a2b739d41c8a505780e648b690f375f7d262ba9ac310"
   }
  }
 },
 "nbformat": 4,
 "nbformat_minor": 2
}
